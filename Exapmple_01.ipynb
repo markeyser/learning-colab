{
  "nbformat": 4,
  "nbformat_minor": 0,
  "metadata": {
    "colab": {
      "provenance": [],
      "mount_file_id": "1lfljfXQK2NA99YSR5_6EznBGVFOa_Ls2",
      "authorship_tag": "ABX9TyO3B6P0XkfTnYp6mxLWbRtF",
      "include_colab_link": true
    },
    "kernelspec": {
      "name": "python3",
      "display_name": "Python 3"
    },
    "language_info": {
      "name": "python"
    }
  },
  "cells": [
    {
      "cell_type": "markdown",
      "metadata": {
        "id": "view-in-github",
        "colab_type": "text"
      },
      "source": [
        "<a href=\"https://colab.research.google.com/github/markeyser/learning-colab/blob/main/Exapmple_01.ipynb\" target=\"_parent\"><img src=\"https://colab.research.google.com/assets/colab-badge.svg\" alt=\"Open In Colab\"/></a>"
      ]
    },
    {
      "cell_type": "code",
      "execution_count": 1,
      "metadata": {
        "colab": {
          "base_uri": "https://localhost:8080/"
        },
        "id": "94RkJkT8xBKF",
        "outputId": "af84ce39-24e7-4957-d9b1-28c6b8234581"
      },
      "outputs": [
        {
          "output_type": "stream",
          "name": "stdout",
          "text": [
            "Looking in indexes: https://pypi.org/simple, https://us-python.pkg.dev/colab-wheels/public/simple/\n",
            "Collecting python-dotenv\n",
            "  Downloading python_dotenv-1.0.0-py3-none-any.whl (19 kB)\n",
            "Installing collected packages: python-dotenv\n",
            "Successfully installed python-dotenv-1.0.0\n"
          ]
        }
      ],
      "source": [
        "!pip install python-dotenv"
      ]
    },
    {
      "cell_type": "code",
      "source": [
        "import os\n",
        "from dotenv import load_dotenv"
      ],
      "metadata": {
        "id": "DE4zXY28xMg7"
      },
      "execution_count": 2,
      "outputs": []
    },
    {
      "cell_type": "code",
      "source": [
        "load_dotenv('/content/drive/MyDrive/Projects/.env')"
      ],
      "metadata": {
        "colab": {
          "base_uri": "https://localhost:8080/"
        },
        "id": "3MyrfWZfxO3L",
        "outputId": "cc202948-20e1-4ed2-fdef-6f62d61aa1a1"
      },
      "execution_count": 3,
      "outputs": [
        {
          "output_type": "execute_result",
          "data": {
            "text/plain": [
              "True"
            ]
          },
          "metadata": {},
          "execution_count": 3
        }
      ]
    },
    {
      "cell_type": "code",
      "source": [
        "huggingface_api_key = os.getenv(\"HUGGINGFACEHUB_API_TOKEN\")\n",
        "openai_api_key = os.getenv(\"OPENAI_API_KEY\")\n",
        "pinecone_api_key = os.getenv(\"PINECONE_API_KEY\")\n",
        "github_api_key = os.getenv(\"GITHUB_API_KEY\")\n",
        "git_user_name = os.getenv(\"GIT_USER_NAME\")\n",
        "git_user_email = os.getenv(\"GIT_USER_EMAIL\")"
      ],
      "metadata": {
        "id": "TAIUCT3CxRcP"
      },
      "execution_count": 4,
      "outputs": []
    },
    {
      "cell_type": "code",
      "source": [],
      "metadata": {
        "id": "OCmuu2Svxhgn"
      },
      "execution_count": null,
      "outputs": []
    }
  ]
}